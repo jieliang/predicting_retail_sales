{
 "cells": [
  {
   "cell_type": "markdown",
   "metadata": {},
   "source": [
    "## save_correction_models_to_DB\n",
    "* save metadata correction models in postgres database\n",
    "* create table model_coeffs that has metadata correction model coefficients\n",
    "* tables col_means and col_stds store the means and standard deviations of predictors so predicted scaled sales can be transformed back to original scale."
   ]
  },
  {
   "cell_type": "code",
   "execution_count": 3,
   "metadata": {},
   "outputs": [],
   "source": [
    "import psycopg2 as pg\n",
    "import pandas as pd\n",
    "import pandas.io.sql as pd_sql\n",
    "\n",
    "from sqlalchemy import create_engine\n",
    "import psycopg2 \n",
    "import io\n",
    "\n",
    "import pickle"
   ]
  },
  {
   "cell_type": "code",
   "execution_count": 71,
   "metadata": {},
   "outputs": [],
   "source": [
    "dept_list =[i for i in range(2,82)]\n",
    "model_coeffs  = pd.read_pickle('data/model_coeffs_dept_1.pkl')\n",
    "col_means  = pd.read_pickle('data/col_means_dept_1.pkl')\n",
    "col_stds  = pd.read_pickle('data/col_stds_dept_1.pkl')\n"
   ]
  },
  {
   "cell_type": "code",
   "execution_count": 72,
   "metadata": {},
   "outputs": [],
   "source": [
    "error_list = []\n",
    "\n",
    "for i in dept_list:\n",
    "    try:\n",
    "        df =  pd.read_pickle('data/model_coeffs_dept_'+str(i)+'.pkl')\n",
    "        model_coeffs = pd.concat([model_coeffs,df])\n",
    "        df =  pd.read_pickle('data/col_stds_dept_'+str(i)+'.pkl')\n",
    "        col_stds = pd.concat([col_stds,df])  \n",
    "        df =  pd.read_pickle('data/col_means_dept_'+str(i)+'.pkl')\n",
    "        col_means = pd.concat([col_means,df])   \n",
    "    except:\n",
    "        error_list.append(i)\n",
    "        continue"
   ]
  },
  {
   "cell_type": "code",
   "execution_count": 74,
   "metadata": {},
   "outputs": [
    {
     "data": {
      "text/plain": [
       "Index(['Temperature', 'Fuel_Price', 'MarkDown1', 'MarkDown2', 'MarkDown3',\n",
       "       'MarkDown4', 'MarkDown5', 'CPI', 'Unemployment', 'Weekly_Sales', 'Dept',\n",
       "       'Store'],\n",
       "      dtype='object')"
      ]
     },
     "execution_count": 74,
     "metadata": {},
     "output_type": "execute_result"
    }
   ],
   "source": [
    "col_stds.columns"
   ]
  },
  {
   "cell_type": "code",
   "execution_count": 121,
   "metadata": {},
   "outputs": [],
   "source": [
    "connection_args = {\n",
    "    'host': '34.220.165.163', # current aws instance public IP\n",
    "    'user': 'ubuntu',    \n",
    "    'dbname': 'ubuntu',   \n",
    "    'port': 5432         \n",
    "}"
   ]
  },
  {
   "cell_type": "code",
   "execution_count": 122,
   "metadata": {},
   "outputs": [],
   "source": [
    "connection = pg.connect(**connection_args)"
   ]
  },
  {
   "cell_type": "code",
   "execution_count": 123,
   "metadata": {},
   "outputs": [],
   "source": [
    "cur = connection.cursor()"
   ]
  },
  {
   "cell_type": "code",
   "execution_count": 47,
   "metadata": {},
   "outputs": [],
   "source": [
    "\n",
    "\n",
    "cur.execute(\"\"\"CREATE TABLE model_coeffs (\n",
    "  intercept float,\n",
    "  IsHoliday float, \n",
    "  scaled_Temperature float, \n",
    "  scaled_Fuel_Price float,\n",
    "  scaled_MarkDown1 float, \n",
    "  scaled_MarkDown2 float, \n",
    "  scaled_MarkDown3 float,\n",
    "  scaled_MarkDown4 float, \n",
    "  scaled_MarkDown5 float, \n",
    "  scaled_CPI float,\n",
    "  scaled_Unemployment float, \n",
    "  IsNotHoliday float, \n",
    "  predicted_scaled_sales float, \n",
    "  Dept int,\n",
    "  Store int\n",
    "  \n",
    ");\"\"\")"
   ]
  },
  {
   "cell_type": "code",
   "execution_count": 48,
   "metadata": {},
   "outputs": [],
   "source": [
    "output = io.StringIO()\n",
    "model_coeffs.to_csv(output, sep='\\t', header=False, index=False)\n",
    "output.seek(0)\n",
    "contents = output.getvalue()\n",
    "cur.copy_from(output, 'model_coeffs', null=\"\") #null values become ''   \n",
    "connection.commit()"
   ]
  },
  {
   "cell_type": "code",
   "execution_count": 78,
   "metadata": {},
   "outputs": [
    {
     "data": {
      "text/plain": [
       "Index(['Temperature', 'Fuel_Price', 'MarkDown1', 'MarkDown2', 'MarkDown3',\n",
       "       'MarkDown4', 'MarkDown5', 'CPI', 'Unemployment', 'Weekly_Sales', 'Dept',\n",
       "       'Store'],\n",
       "      dtype='object')"
      ]
     },
     "execution_count": 78,
     "metadata": {},
     "output_type": "execute_result"
    }
   ],
   "source": [
    "col_stds.columns"
   ]
  },
  {
   "cell_type": "code",
   "execution_count": 79,
   "metadata": {},
   "outputs": [],
   "source": [
    "cur.execute(\"\"\"CREATE TABLE col_stds (\n",
    "    Temperature float, \n",
    "    Fuel_Price float, \n",
    "    MarkDown1 float, \n",
    "    MarkDown2 float, \n",
    "    MarkDown3 float,\n",
    "    MarkDown4 float, \n",
    "    MarkDown5 float, \n",
    "    CPI float, \n",
    "    Unemployment float, \n",
    "    Weekly_Sales float, \n",
    "    Dept int,\n",
    "    Store int\n",
    "  \n",
    ");\"\"\")"
   ]
  },
  {
   "cell_type": "code",
   "execution_count": 80,
   "metadata": {},
   "outputs": [],
   "source": [
    "output = io.StringIO()\n",
    "col_stds.to_csv(output, sep='\\t', header=False, index=False)\n",
    "output.seek(0)\n",
    "contents = output.getvalue()\n",
    "cur.copy_from(output, 'col_stds', null=\"\") #null values become ''   \n",
    "connection.commit()"
   ]
  },
  {
   "cell_type": "code",
   "execution_count": 81,
   "metadata": {},
   "outputs": [],
   "source": [
    "cur.execute(\"\"\"CREATE TABLE col_means (\n",
    "    Temperature float, \n",
    "    Fuel_Price float, \n",
    "    MarkDown1 float, \n",
    "    MarkDown2 float, \n",
    "    MarkDown3 float,\n",
    "    MarkDown4 float, \n",
    "    MarkDown5 float, \n",
    "    CPI float, \n",
    "    Unemployment float, \n",
    "    Weekly_Sales float, \n",
    "    Dept int,\n",
    "    Store int\n",
    "  \n",
    ");\"\"\")"
   ]
  },
  {
   "cell_type": "code",
   "execution_count": 82,
   "metadata": {},
   "outputs": [],
   "source": [
    "output = io.StringIO()\n",
    "col_means.to_csv(output, sep='\\t', header=False, index=False)\n",
    "output.seek(0)\n",
    "contents = output.getvalue()\n",
    "cur.copy_from(output, 'col_means', null=\"\") #null values become ''   \n",
    "connection.commit()"
   ]
  },
  {
   "cell_type": "code",
   "execution_count": 54,
   "metadata": {},
   "outputs": [
    {
     "name": "stdout",
     "output_type": "stream",
     "text": [
      "<class 'pandas.core.frame.DataFrame'>\n",
      "RangeIndex: 1 entries, 0 to 0\n",
      "Data columns (total 15 columns):\n",
      "intercept                 1 non-null float64\n",
      "isholiday                 1 non-null float64\n",
      "scaled_temperature        1 non-null float64\n",
      "scaled_fuel_price         1 non-null float64\n",
      "scaled_markdown1          1 non-null float64\n",
      "scaled_markdown2          1 non-null float64\n",
      "scaled_markdown3          1 non-null float64\n",
      "scaled_markdown4          1 non-null float64\n",
      "scaled_markdown5          1 non-null float64\n",
      "scaled_cpi                1 non-null float64\n",
      "scaled_unemployment       1 non-null float64\n",
      "isnotholiday              1 non-null float64\n",
      "predicted_scaled_sales    1 non-null float64\n",
      "dept                      1 non-null int64\n",
      "store                     1 non-null int64\n",
      "dtypes: float64(13), int64(2)\n",
      "memory usage: 200.0 bytes\n"
     ]
    }
   ],
   "source": [
    "df = pd.read_sql_query('select * from model_coeffs where store=1 and dept=1',con=connection)\n",
    "df.info()"
   ]
  },
  {
   "cell_type": "code",
   "execution_count": null,
   "metadata": {},
   "outputs": [],
   "source": []
  }
 ],
 "metadata": {
  "kernelspec": {
   "display_name": "Python 3",
   "language": "python",
   "name": "python3"
  },
  "language_info": {
   "codemirror_mode": {
    "name": "ipython",
    "version": 3
   },
   "file_extension": ".py",
   "mimetype": "text/x-python",
   "name": "python",
   "nbconvert_exporter": "python",
   "pygments_lexer": "ipython3",
   "version": "3.6.4"
  }
 },
 "nbformat": 4,
 "nbformat_minor": 2
}

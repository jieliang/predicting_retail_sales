{
 "cells": [
  {
   "cell_type": "markdown",
   "metadata": {},
   "source": [
    "## make_pediction\n",
    "* predict weekly sales "
   ]
  },
  {
   "cell_type": "code",
   "execution_count": null,
   "metadata": {},
   "outputs": [],
   "source": [
    "import psycopg2 as pg\n",
    "import pandas as pd\n",
    "import pandas.io.sql as pd_sql\n",
    "\n",
    "from sqlalchemy import create_engine\n",
    "import psycopg2 \n",
    "import io\n",
    "\n",
    "import pickle\n",
    "\n",
    "import pandas as pd\n",
    "import numpy as np\n",
    "\n",
    "import matplotlib.pylab as plt\n",
    "%matplotlib inline\n",
    "import datetime as dt\n",
    "import pickle\n",
    "from sklearn.preprocessing import StandardScaler"
   ]
  },
  {
   "cell_type": "markdown",
   "metadata": {},
   "source": [
    "connect to database"
   ]
  },
  {
   "cell_type": "code",
   "execution_count": 6,
   "metadata": {},
   "outputs": [],
   "source": [
    "connection_args = {\n",
    "    'host': '34.220.165.163', # current aws instance public IP\n",
    "    'user': 'ubuntu',    \n",
    "    'dbname': 'ubuntu',   \n",
    "    'port': 5432         \n",
    "}\n",
    "\n",
    "connection = pg.connect(**connection_args)\n",
    "cur = connection.cursor()"
   ]
  },
  {
   "cell_type": "markdown",
   "metadata": {},
   "source": [
    "make prediciton"
   ]
  },
  {
   "cell_type": "code",
   "execution_count": 29,
   "metadata": {},
   "outputs": [],
   "source": [
    "def predict_sales(deptID, storeID, date,isHoliday,temperature,fuel_price,markdown1,markdown2,markdown3,markdown4,markdown5,CPI,unemployment):\n",
    "    \n",
    "    # retrieve model from database\n",
    "    coeffs = pd.read_sql_query('select * from model_coeffs where dept='+str(deptID)+' and store='+str(storeID),con=connection)\n",
    "    col_means = pd.read_sql_query('select * from col_means where dept=' +str(deptID)+' and store='+str(storeID),con=connection)\n",
    "    col_stds=pd.read_sql_query('select * from col_stds where dept='+str(deptID)+' and store='+str(storeID),con=connection)\n",
    "    sarima_pred=pd.read_sql_query('select * from sarima_prediction where store='+str(storeID)+' and dept='+str(deptID)+' and year='+str(date.year)+' and month='+str(date.month)+' and day='+str(date.day),con=connection)['sarima_predicted_scaled_sales']\n",
    "    \n",
    "    # scale input\n",
    "    input_vars = [temperature,fuel_price,markdown1,markdown2,markdown3,markdown4,markdown5,CPI,unemployment]\n",
    "    scaled_input_vars = [(input_vars[i]-col_means.loc[0][i])/col_stds.loc[0][i] for i in range(len(input_vars))]\n",
    "                          \n",
    "                          \n",
    "    # get prediction from model                      \n",
    "    X=[1]+[isHoliday]+scaled_input_vars+[not isHoliday]+[sarima_pred]\n",
    "    scaled_prediction = sum([X[i]*coeffs.loc[0][i] for i in range(len(X))])\n",
    "    prediction = scaled_prediction*col_stds['weekly_sales']+col_means['weekly_sales']\n",
    "    return prediction.iloc[0]\n",
    "    \n",
    "    "
   ]
  },
  {
   "cell_type": "code",
   "execution_count": 30,
   "metadata": {},
   "outputs": [],
   "source": [
    "test=predict_sales(1,1,dt.datetime(2012, 11,19),True,68, 2.8, 1000,1000,1500,4200, 7000, 215,5.5)"
   ]
  },
  {
   "cell_type": "code",
   "execution_count": 31,
   "metadata": {},
   "outputs": [
    {
     "data": {
      "text/plain": [
       "21627.519716795905"
      ]
     },
     "execution_count": 31,
     "metadata": {},
     "output_type": "execute_result"
    }
   ],
   "source": [
    "test"
   ]
  },
  {
   "cell_type": "code",
   "execution_count": null,
   "metadata": {},
   "outputs": [],
   "source": []
  }
 ],
 "metadata": {
  "kernelspec": {
   "display_name": "Python 3",
   "language": "python",
   "name": "python3"
  },
  "language_info": {
   "codemirror_mode": {
    "name": "ipython",
    "version": 3
   },
   "file_extension": ".py",
   "mimetype": "text/x-python",
   "name": "python",
   "nbconvert_exporter": "python",
   "pygments_lexer": "ipython3",
   "version": "3.6.4"
  }
 },
 "nbformat": 4,
 "nbformat_minor": 2
}

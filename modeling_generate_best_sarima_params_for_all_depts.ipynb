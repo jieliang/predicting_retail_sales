{
 "cells": [
  {
   "cell_type": "markdown",
   "metadata": {},
   "source": [
    "## modeling_generate_best_sarima_params_for_all_depts\n",
    "\n",
    "grid search and save best parameters for each SARIMA model for every dept in a store."
   ]
  },
  {
   "cell_type": "code",
   "execution_count": 1,
   "metadata": {},
   "outputs": [
    {
     "name": "stderr",
     "output_type": "stream",
     "text": [
      "/home/ubuntu/anaconda3/lib/python3.6/site-packages/statsmodels/compat/pandas.py:56: FutureWarning: The pandas.core.datetools module is deprecated and will be removed in a future version. Please use the pandas.tseries module instead.\n",
      "  from pandas.core import datetools\n"
     ]
    }
   ],
   "source": [
    "import pandas as pd\n",
    "import numpy as np\n",
    "from datetime import date\n",
    "import matplotlib.pylab as plt\n",
    "%matplotlib inline\n",
    "import datetime\n",
    "import pickle\n",
    "from sklearn.preprocessing import StandardScaler\n",
    "import statsmodels.api as sm\n",
    "import itertools\n",
    "import warnings\n",
    "from sklearn.model_selection import TimeSeriesSplit"
   ]
  },
  {
   "cell_type": "code",
   "execution_count": 2,
   "metadata": {},
   "outputs": [],
   "source": [
    "sales=pd.read_csv('data/sales.csv')"
   ]
  },
  {
   "cell_type": "code",
   "execution_count": 3,
   "metadata": {},
   "outputs": [],
   "source": [
    "deptIDs = sorted(sales.Dept.unique())"
   ]
  },
  {
   "cell_type": "code",
   "execution_count": 4,
   "metadata": {},
   "outputs": [
    {
     "name": "stdout",
     "output_type": "stream",
     "text": [
      "DeptID:  80 storeID:  1\n",
      "here\n",
      "here\n"
     ]
    },
    {
     "name": "stderr",
     "output_type": "stream",
     "text": [
      "/home/ubuntu/anaconda3/lib/python3.6/site-packages/ipykernel_launcher.py:35: FutureWarning: reshape is deprecated and will raise in a subsequent release. Please use .values.reshape(...) instead\n",
      "/home/ubuntu/anaconda3/lib/python3.6/site-packages/ipykernel_launcher.py:36: FutureWarning: reshape is deprecated and will raise in a subsequent release. Please use .values.reshape(...) instead\n",
      "/home/ubuntu/anaconda3/lib/python3.6/site-packages/statsmodels/base/model.py:496: ConvergenceWarning: Maximum Likelihood optimization failed to converge. Check mle_retvals\n",
      "  \"Check mle_retvals\", ConvergenceWarning)\n"
     ]
    },
    {
     "name": "stdout",
     "output_type": "stream",
     "text": [
      "DeptID:  80 storeID:  2\n",
      "here\n",
      "here\n",
      "DeptID:  80 storeID:  3\n",
      "here\n",
      "here\n",
      "DeptID:  80 storeID:  4\n",
      "here\n",
      "here\n",
      "DeptID:  80 storeID:  5\n",
      "here\n",
      "here\n"
     ]
    },
    {
     "name": "stderr",
     "output_type": "stream",
     "text": [
      "/home/ubuntu/anaconda3/lib/python3.6/site-packages/statsmodels/base/model.py:496: ConvergenceWarning: Maximum Likelihood optimization failed to converge. Check mle_retvals\n",
      "  \"Check mle_retvals\", ConvergenceWarning)\n",
      "/home/ubuntu/anaconda3/lib/python3.6/site-packages/statsmodels/base/model.py:496: ConvergenceWarning: Maximum Likelihood optimization failed to converge. Check mle_retvals\n",
      "  \"Check mle_retvals\", ConvergenceWarning)\n",
      "/home/ubuntu/anaconda3/lib/python3.6/site-packages/statsmodels/base/model.py:496: ConvergenceWarning: Maximum Likelihood optimization failed to converge. Check mle_retvals\n",
      "  \"Check mle_retvals\", ConvergenceWarning)\n",
      "/home/ubuntu/anaconda3/lib/python3.6/site-packages/statsmodels/base/model.py:496: ConvergenceWarning: Maximum Likelihood optimization failed to converge. Check mle_retvals\n",
      "  \"Check mle_retvals\", ConvergenceWarning)\n"
     ]
    },
    {
     "name": "stdout",
     "output_type": "stream",
     "text": [
      "DeptID:  80 storeID:  6\n",
      "here\n",
      "here\n",
      "DeptID:  80 storeID:  7\n",
      "here\n",
      "here\n"
     ]
    },
    {
     "name": "stderr",
     "output_type": "stream",
     "text": [
      "/home/ubuntu/anaconda3/lib/python3.6/site-packages/statsmodels/base/model.py:496: ConvergenceWarning: Maximum Likelihood optimization failed to converge. Check mle_retvals\n",
      "  \"Check mle_retvals\", ConvergenceWarning)\n",
      "/home/ubuntu/anaconda3/lib/python3.6/site-packages/statsmodels/base/model.py:496: ConvergenceWarning: Maximum Likelihood optimization failed to converge. Check mle_retvals\n",
      "  \"Check mle_retvals\", ConvergenceWarning)\n"
     ]
    },
    {
     "name": "stdout",
     "output_type": "stream",
     "text": [
      "DeptID:  80 storeID:  8\n",
      "here\n",
      "here\n",
      "DeptID:  80 storeID:  9\n",
      "here\n",
      "here\n"
     ]
    },
    {
     "name": "stderr",
     "output_type": "stream",
     "text": [
      "/home/ubuntu/anaconda3/lib/python3.6/site-packages/statsmodels/base/model.py:496: ConvergenceWarning: Maximum Likelihood optimization failed to converge. Check mle_retvals\n",
      "  \"Check mle_retvals\", ConvergenceWarning)\n",
      "/home/ubuntu/anaconda3/lib/python3.6/site-packages/statsmodels/base/model.py:496: ConvergenceWarning: Maximum Likelihood optimization failed to converge. Check mle_retvals\n",
      "  \"Check mle_retvals\", ConvergenceWarning)\n",
      "/home/ubuntu/anaconda3/lib/python3.6/site-packages/statsmodels/base/model.py:496: ConvergenceWarning: Maximum Likelihood optimization failed to converge. Check mle_retvals\n",
      "  \"Check mle_retvals\", ConvergenceWarning)\n",
      "/home/ubuntu/anaconda3/lib/python3.6/site-packages/statsmodels/base/model.py:496: ConvergenceWarning: Maximum Likelihood optimization failed to converge. Check mle_retvals\n",
      "  \"Check mle_retvals\", ConvergenceWarning)\n",
      "/home/ubuntu/anaconda3/lib/python3.6/site-packages/statsmodels/base/model.py:496: ConvergenceWarning: Maximum Likelihood optimization failed to converge. Check mle_retvals\n",
      "  \"Check mle_retvals\", ConvergenceWarning)\n"
     ]
    },
    {
     "name": "stdout",
     "output_type": "stream",
     "text": [
      "DeptID:  80 storeID:  10\n",
      "here\n",
      "here\n"
     ]
    },
    {
     "name": "stderr",
     "output_type": "stream",
     "text": [
      "/home/ubuntu/anaconda3/lib/python3.6/site-packages/statsmodels/base/model.py:496: ConvergenceWarning: Maximum Likelihood optimization failed to converge. Check mle_retvals\n",
      "  \"Check mle_retvals\", ConvergenceWarning)\n"
     ]
    },
    {
     "name": "stdout",
     "output_type": "stream",
     "text": [
      "DeptID:  80 storeID:  11\n",
      "here\n",
      "here\n",
      "DeptID:  80 storeID:  12\n",
      "here\n",
      "here\n",
      "DeptID:  80 storeID:  13\n",
      "here\n",
      "here\n",
      "DeptID:  80 storeID:  14\n",
      "here\n",
      "here\n",
      "DeptID:  80 storeID:  15\n",
      "here\n",
      "here\n"
     ]
    },
    {
     "name": "stderr",
     "output_type": "stream",
     "text": [
      "/home/ubuntu/anaconda3/lib/python3.6/site-packages/statsmodels/base/model.py:496: ConvergenceWarning: Maximum Likelihood optimization failed to converge. Check mle_retvals\n",
      "  \"Check mle_retvals\", ConvergenceWarning)\n"
     ]
    },
    {
     "name": "stdout",
     "output_type": "stream",
     "text": [
      "DeptID:  80 storeID:  16\n",
      "here\n",
      "here\n",
      "DeptID:  80 storeID:  17\n",
      "here\n",
      "here\n",
      "DeptID:  80 storeID:  18\n",
      "here\n",
      "here\n",
      "DeptID:  80 storeID:  19\n",
      "here\n",
      "here\n"
     ]
    },
    {
     "name": "stderr",
     "output_type": "stream",
     "text": [
      "/home/ubuntu/anaconda3/lib/python3.6/site-packages/statsmodels/base/model.py:496: ConvergenceWarning: Maximum Likelihood optimization failed to converge. Check mle_retvals\n",
      "  \"Check mle_retvals\", ConvergenceWarning)\n",
      "/home/ubuntu/anaconda3/lib/python3.6/site-packages/statsmodels/base/model.py:496: ConvergenceWarning: Maximum Likelihood optimization failed to converge. Check mle_retvals\n",
      "  \"Check mle_retvals\", ConvergenceWarning)\n"
     ]
    },
    {
     "name": "stdout",
     "output_type": "stream",
     "text": [
      "DeptID:  80 storeID:  20\n",
      "here\n",
      "here\n",
      "DeptID:  80 storeID:  21\n",
      "here\n",
      "here\n"
     ]
    },
    {
     "name": "stderr",
     "output_type": "stream",
     "text": [
      "/home/ubuntu/anaconda3/lib/python3.6/site-packages/statsmodels/base/model.py:496: ConvergenceWarning: Maximum Likelihood optimization failed to converge. Check mle_retvals\n",
      "  \"Check mle_retvals\", ConvergenceWarning)\n"
     ]
    },
    {
     "name": "stdout",
     "output_type": "stream",
     "text": [
      "DeptID:  80 storeID:  22\n",
      "here\n",
      "here\n",
      "DeptID:  80 storeID:  23\n",
      "here\n",
      "here\n"
     ]
    },
    {
     "name": "stderr",
     "output_type": "stream",
     "text": [
      "/home/ubuntu/anaconda3/lib/python3.6/site-packages/statsmodels/base/model.py:496: ConvergenceWarning: Maximum Likelihood optimization failed to converge. Check mle_retvals\n",
      "  \"Check mle_retvals\", ConvergenceWarning)\n"
     ]
    },
    {
     "name": "stdout",
     "output_type": "stream",
     "text": [
      "DeptID:  80 storeID:  24\n",
      "here\n",
      "here\n",
      "DeptID:  80 storeID:  25\n",
      "here\n",
      "here\n"
     ]
    },
    {
     "name": "stderr",
     "output_type": "stream",
     "text": [
      "/home/ubuntu/anaconda3/lib/python3.6/site-packages/statsmodels/base/model.py:496: ConvergenceWarning: Maximum Likelihood optimization failed to converge. Check mle_retvals\n",
      "  \"Check mle_retvals\", ConvergenceWarning)\n"
     ]
    },
    {
     "name": "stdout",
     "output_type": "stream",
     "text": [
      "DeptID:  80 storeID:  26\n",
      "here\n",
      "here\n",
      "DeptID:  80 storeID:  27\n",
      "here\n",
      "here\n",
      "DeptID:  80 storeID:  28\n",
      "here\n",
      "here\n",
      "DeptID:  80 storeID:  29\n",
      "here\n",
      "here\n"
     ]
    },
    {
     "name": "stderr",
     "output_type": "stream",
     "text": [
      "/home/ubuntu/anaconda3/lib/python3.6/site-packages/statsmodels/base/model.py:496: ConvergenceWarning: Maximum Likelihood optimization failed to converge. Check mle_retvals\n",
      "  \"Check mle_retvals\", ConvergenceWarning)\n"
     ]
    },
    {
     "name": "stdout",
     "output_type": "stream",
     "text": [
      "DeptID:  80 storeID:  30\n",
      "here\n",
      "here\n",
      "DeptID:  80 storeID:  31\n",
      "here\n",
      "here\n",
      "DeptID:  80 storeID:  32\n",
      "here\n",
      "here\n",
      "DeptID:  80 storeID:  33\n",
      "here\n",
      "here\n"
     ]
    },
    {
     "name": "stderr",
     "output_type": "stream",
     "text": [
      "/home/ubuntu/anaconda3/lib/python3.6/site-packages/statsmodels/base/model.py:496: ConvergenceWarning: Maximum Likelihood optimization failed to converge. Check mle_retvals\n",
      "  \"Check mle_retvals\", ConvergenceWarning)\n"
     ]
    },
    {
     "name": "stdout",
     "output_type": "stream",
     "text": [
      "DeptID:  80 storeID:  34\n",
      "here\n",
      "here\n",
      "DeptID:  80 storeID:  35\n",
      "here\n",
      "here\n"
     ]
    },
    {
     "name": "stderr",
     "output_type": "stream",
     "text": [
      "/home/ubuntu/anaconda3/lib/python3.6/site-packages/statsmodels/base/model.py:496: ConvergenceWarning: Maximum Likelihood optimization failed to converge. Check mle_retvals\n",
      "  \"Check mle_retvals\", ConvergenceWarning)\n"
     ]
    },
    {
     "name": "stdout",
     "output_type": "stream",
     "text": [
      "DeptID:  80 storeID:  36\n",
      "here\n",
      "here\n"
     ]
    },
    {
     "name": "stderr",
     "output_type": "stream",
     "text": [
      "/home/ubuntu/anaconda3/lib/python3.6/site-packages/statsmodels/base/model.py:496: ConvergenceWarning: Maximum Likelihood optimization failed to converge. Check mle_retvals\n",
      "  \"Check mle_retvals\", ConvergenceWarning)\n"
     ]
    },
    {
     "name": "stdout",
     "output_type": "stream",
     "text": [
      "DeptID:  80 storeID:  37\n",
      "here\n",
      "here\n"
     ]
    },
    {
     "name": "stderr",
     "output_type": "stream",
     "text": [
      "/home/ubuntu/anaconda3/lib/python3.6/site-packages/statsmodels/base/model.py:496: ConvergenceWarning: Maximum Likelihood optimization failed to converge. Check mle_retvals\n",
      "  \"Check mle_retvals\", ConvergenceWarning)\n"
     ]
    },
    {
     "name": "stdout",
     "output_type": "stream",
     "text": [
      "DeptID:  80 storeID:  38\n",
      "here\n",
      "here\n"
     ]
    },
    {
     "name": "stderr",
     "output_type": "stream",
     "text": [
      "/home/ubuntu/anaconda3/lib/python3.6/site-packages/statsmodels/base/model.py:496: ConvergenceWarning: Maximum Likelihood optimization failed to converge. Check mle_retvals\n",
      "  \"Check mle_retvals\", ConvergenceWarning)\n"
     ]
    },
    {
     "name": "stdout",
     "output_type": "stream",
     "text": [
      "DeptID:  80 storeID:  39\n",
      "here\n",
      "here\n",
      "DeptID:  80 storeID:  40\n",
      "here\n",
      "here\n",
      "DeptID:  80 storeID:  41\n",
      "here\n",
      "here\n"
     ]
    },
    {
     "name": "stderr",
     "output_type": "stream",
     "text": [
      "/home/ubuntu/anaconda3/lib/python3.6/site-packages/statsmodels/base/model.py:496: ConvergenceWarning: Maximum Likelihood optimization failed to converge. Check mle_retvals\n",
      "  \"Check mle_retvals\", ConvergenceWarning)\n"
     ]
    },
    {
     "name": "stdout",
     "output_type": "stream",
     "text": [
      "DeptID:  80 storeID:  42\n",
      "here\n",
      "here\n"
     ]
    },
    {
     "name": "stderr",
     "output_type": "stream",
     "text": [
      "/home/ubuntu/anaconda3/lib/python3.6/site-packages/statsmodels/base/model.py:496: ConvergenceWarning: Maximum Likelihood optimization failed to converge. Check mle_retvals\n",
      "  \"Check mle_retvals\", ConvergenceWarning)\n"
     ]
    },
    {
     "name": "stdout",
     "output_type": "stream",
     "text": [
      "DeptID:  80 storeID:  43\n",
      "here\n",
      "here\n"
     ]
    },
    {
     "name": "stderr",
     "output_type": "stream",
     "text": [
      "/home/ubuntu/anaconda3/lib/python3.6/site-packages/statsmodels/base/model.py:496: ConvergenceWarning: Maximum Likelihood optimization failed to converge. Check mle_retvals\n",
      "  \"Check mle_retvals\", ConvergenceWarning)\n"
     ]
    },
    {
     "name": "stdout",
     "output_type": "stream",
     "text": [
      "DeptID:  80 storeID:  44\n",
      "here\n",
      "here\n",
      "DeptID:  80 storeID:  45\n",
      "here\n",
      "here\n",
      "DeptID:  81 storeID:  1\n",
      "here\n",
      "here\n",
      "DeptID:  81 storeID:  2\n",
      "here\n",
      "here\n",
      "DeptID:  81 storeID:  3\n",
      "here\n",
      "here\n",
      "DeptID:  81 storeID:  4\n",
      "here\n",
      "here\n",
      "DeptID:  81 storeID:  5\n",
      "here\n",
      "here\n",
      "DeptID:  81 storeID:  6\n",
      "here\n",
      "here\n",
      "DeptID:  81 storeID:  7\n",
      "here\n",
      "here\n",
      "DeptID:  81 storeID:  8\n",
      "here\n",
      "here\n",
      "DeptID:  81 storeID:  9\n",
      "here\n",
      "here\n",
      "DeptID:  81 storeID:  10\n",
      "here\n",
      "here\n",
      "DeptID:  81 storeID:  11\n",
      "here\n",
      "here\n",
      "DeptID:  81 storeID:  12\n",
      "here\n",
      "here\n",
      "DeptID:  81 storeID:  13\n",
      "here\n",
      "here\n",
      "DeptID:  81 storeID:  14\n",
      "here\n",
      "here\n",
      "DeptID:  81 storeID:  15\n",
      "here\n",
      "here\n"
     ]
    },
    {
     "name": "stderr",
     "output_type": "stream",
     "text": [
      "/home/ubuntu/anaconda3/lib/python3.6/site-packages/statsmodels/base/model.py:496: ConvergenceWarning: Maximum Likelihood optimization failed to converge. Check mle_retvals\n",
      "  \"Check mle_retvals\", ConvergenceWarning)\n"
     ]
    },
    {
     "name": "stdout",
     "output_type": "stream",
     "text": [
      "DeptID:  81 storeID:  16\n",
      "here\n",
      "here\n",
      "DeptID:  81 storeID:  17\n",
      "here\n",
      "here\n",
      "DeptID:  81 storeID:  18\n",
      "here\n",
      "here\n",
      "DeptID:  81 storeID:  19\n",
      "here\n",
      "here\n",
      "DeptID:  81 storeID:  20\n",
      "here\n",
      "here\n",
      "DeptID:  81 storeID:  21\n",
      "here\n",
      "here\n",
      "DeptID:  81 storeID:  22\n",
      "here\n",
      "here\n"
     ]
    },
    {
     "name": "stderr",
     "output_type": "stream",
     "text": [
      "/home/ubuntu/anaconda3/lib/python3.6/site-packages/statsmodels/base/model.py:496: ConvergenceWarning: Maximum Likelihood optimization failed to converge. Check mle_retvals\n",
      "  \"Check mle_retvals\", ConvergenceWarning)\n"
     ]
    },
    {
     "name": "stdout",
     "output_type": "stream",
     "text": [
      "DeptID:  81 storeID:  23\n",
      "here\n",
      "here\n",
      "DeptID:  81 storeID:  25\n",
      "here\n",
      "here\n",
      "DeptID:  81 storeID:  26\n",
      "here\n",
      "here\n",
      "DeptID:  81 storeID:  27\n",
      "here\n",
      "here\n"
     ]
    },
    {
     "name": "stderr",
     "output_type": "stream",
     "text": [
      "/home/ubuntu/anaconda3/lib/python3.6/site-packages/statsmodels/base/model.py:496: ConvergenceWarning: Maximum Likelihood optimization failed to converge. Check mle_retvals\n",
      "  \"Check mle_retvals\", ConvergenceWarning)\n"
     ]
    },
    {
     "name": "stdout",
     "output_type": "stream",
     "text": [
      "DeptID:  81 storeID:  28\n",
      "here\n",
      "here\n"
     ]
    },
    {
     "name": "stderr",
     "output_type": "stream",
     "text": [
      "/home/ubuntu/anaconda3/lib/python3.6/site-packages/statsmodels/base/model.py:496: ConvergenceWarning: Maximum Likelihood optimization failed to converge. Check mle_retvals\n",
      "  \"Check mle_retvals\", ConvergenceWarning)\n"
     ]
    },
    {
     "name": "stdout",
     "output_type": "stream",
     "text": [
      "DeptID:  81 storeID:  29\n",
      "here\n",
      "here\n"
     ]
    },
    {
     "name": "stderr",
     "output_type": "stream",
     "text": [
      "/home/ubuntu/anaconda3/lib/python3.6/site-packages/statsmodels/base/model.py:496: ConvergenceWarning: Maximum Likelihood optimization failed to converge. Check mle_retvals\n",
      "  \"Check mle_retvals\", ConvergenceWarning)\n"
     ]
    },
    {
     "name": "stdout",
     "output_type": "stream",
     "text": [
      "DeptID:  81 storeID:  30\n",
      "here\n",
      "here\n",
      "DeptID:  81 storeID:  31\n",
      "here\n",
      "here\n",
      "DeptID:  81 storeID:  32\n",
      "here\n",
      "here\n",
      "DeptID:  81 storeID:  33\n",
      "here\n",
      "here\n",
      "DeptID:  81 storeID:  34\n",
      "here\n",
      "here\n",
      "DeptID:  81 storeID:  35\n",
      "here\n",
      "here\n",
      "DeptID:  81 storeID:  36\n",
      "here\n",
      "here\n",
      "DeptID:  81 storeID:  37\n",
      "here\n",
      "here\n",
      "DeptID:  81 storeID:  38\n",
      "here\n",
      "here\n",
      "DeptID:  81 storeID:  39\n",
      "here\n",
      "here\n",
      "DeptID:  81 storeID:  40\n",
      "here\n",
      "here\n",
      "DeptID:  81 storeID:  41\n",
      "here\n",
      "here\n",
      "DeptID:  81 storeID:  42\n",
      "here\n",
      "here\n",
      "DeptID:  81 storeID:  43\n",
      "here\n",
      "here\n"
     ]
    },
    {
     "name": "stderr",
     "output_type": "stream",
     "text": [
      "/home/ubuntu/anaconda3/lib/python3.6/site-packages/statsmodels/base/model.py:496: ConvergenceWarning: Maximum Likelihood optimization failed to converge. Check mle_retvals\n",
      "  \"Check mle_retvals\", ConvergenceWarning)\n"
     ]
    },
    {
     "name": "stdout",
     "output_type": "stream",
     "text": [
      "DeptID:  81 storeID:  44\n",
      "here\n",
      "here\n",
      "DeptID:  81 storeID:  45\n",
      "here\n",
      "here\n"
     ]
    }
   ],
   "source": [
    "#deptIDs = sorted(sales.Dept.unique())\n",
    "error_list = []\n",
    "try:\n",
    "    for deptID in deptIDs:\n",
    "        file_name = 'data/clean_sales_dept_' + str(deptID) +'.pkl'\n",
    "        \n",
    "        data = pd.read_pickle(file_name)\n",
    "        data.set_index('Date', inplace=True)\n",
    "        data.sort_index(inplace=True)\n",
    "        \n",
    "        dfs = dict(list( data.groupby(['Store'])))\n",
    "        \n",
    "        best_params ={}\n",
    "        storeIDs = sorted(data.Store.unique())\n",
    "\n",
    "        # Define the p, d and q parameters to take any value between 0 and 2\n",
    "        p = d = q = range(0, 2)\n",
    "        # Generate all different combinations of p, q and q triplets\n",
    "        pdq = list(itertools.product(p, d, q))\n",
    "        seasonal_pdq = [(x[0], x[1], x[2], 52) for x in list(itertools.product(p, d, q))]\n",
    "        \n",
    "        \n",
    "        \n",
    "        for i in storeIDs:\n",
    "    \n",
    "            print('DeptID: ',deptID ,\"storeID: \",i)\n",
    "        \n",
    "            scaler = StandardScaler()\n",
    "            scaler.fit(dfs[i].Weekly_Sales.reshape(-1, 1))\n",
    "            X = scaler.transform(dfs[i].Weekly_Sales.reshape(-1, 1))\n",
    "            tscv = TimeSeriesSplit(n_splits=3)\n",
    "            print('here')\n",
    "\n",
    "            train_index = [(train_index, test_index) for (train_index, test_index) in tscv.split(X)][2][0]\n",
    "            X_train = X[train_index]\n",
    "\n",
    "            aic_list = []\n",
    "            pdq_list = []\n",
    "\n",
    "\n",
    "            for param in pdq:\n",
    "                for param_seasonal in seasonal_pdq:\n",
    "                    try:\n",
    "                        mod = sm.tsa.statespace.SARIMAX(X_train,order=param,\n",
    "                                            seasonal_order=param_seasonal,\n",
    "                                            enforce_stationarity=False,\n",
    "                                            enforce_invertibility=False)\n",
    "\n",
    "                        results = mod.fit()\n",
    "            \n",
    "                        aic_list.append(results.aic)\n",
    "                        pdq_list.append([param,param_seasonal])\n",
    "            \n",
    "                        \n",
    "                    except:\n",
    "                        continue\n",
    "                \n",
    "            idx = aic_list.index(min(aic_list))\n",
    "            best_pdq = pdq_list[idx]\n",
    "            best_params[i] = best_pdq\n",
    "    \n",
    "\n",
    "        pickle.dump(best_params, open(\"data/sarima_best_params_dept_\"+str(deptID)+\".pkl\", \"wb\"))  \n",
    "        #best_params = pickle.load(open(\"data/sarima_best_params_dept_18.pkl\", \"rb\"))\n",
    "except:\n",
    "    print('failed deptID: ', deptID)\n",
    "    error_list.append(deptID) \n",
    "    "
   ]
  },
  {
   "cell_type": "code",
   "execution_count": null,
   "metadata": {},
   "outputs": [],
   "source": []
  }
 ],
 "metadata": {
  "kernelspec": {
   "display_name": "Python 3",
   "language": "python",
   "name": "python3"
  },
  "language_info": {
   "codemirror_mode": {
    "name": "ipython",
    "version": 3
   },
   "file_extension": ".py",
   "mimetype": "text/x-python",
   "name": "python",
   "nbconvert_exporter": "python",
   "pygments_lexer": "ipython3",
   "version": "3.6.5"
  }
 },
 "nbformat": 4,
 "nbformat_minor": 2
}
